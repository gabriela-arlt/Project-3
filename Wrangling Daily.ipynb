{
 "cells": [
  {
   "cell_type": "code",
   "execution_count": 6,
   "metadata": {},
   "outputs": [],
   "source": [
    "import numpy as np\n",
    "import pandas as pd\n",
    "import matplotlib as plt\n",
    "import matplotlib.pyplot as plt\n",
    "import seaborn as sns"
   ]
  },
  {
   "cell_type": "code",
   "execution_count": 7,
   "metadata": {},
   "outputs": [],
   "source": [
    "daily = pd.read_csv('CBS_2021-2023_Daily_Weather.csv', sep=',')"
   ]
  },
  {
   "cell_type": "code",
   "execution_count": 8,
   "metadata": {},
   "outputs": [
    {
     "data": {
      "text/html": [
       "<div>\n",
       "<style scoped>\n",
       "    .dataframe tbody tr th:only-of-type {\n",
       "        vertical-align: middle;\n",
       "    }\n",
       "\n",
       "    .dataframe tbody tr th {\n",
       "        vertical-align: top;\n",
       "    }\n",
       "\n",
       "    .dataframe thead th {\n",
       "        text-align: right;\n",
       "    }\n",
       "</style>\n",
       "<table border=\"1\" class=\"dataframe\">\n",
       "  <thead>\n",
       "    <tr style=\"text-align: right;\">\n",
       "      <th></th>\n",
       "      <th>Casual</th>\n",
       "      <th>Date</th>\n",
       "      <th>Member</th>\n",
       "      <th>Total_rides</th>\n",
       "      <th>apparent_temperature_mean (°C)</th>\n",
       "      <th>temperature_2m_mean (°C)</th>\n",
       "      <th>weathercode (wmo code)</th>\n",
       "      <th>windspeed_10m_max (km/h)</th>\n",
       "    </tr>\n",
       "  </thead>\n",
       "  <tbody>\n",
       "    <tr>\n",
       "      <th>0</th>\n",
       "      <td>371</td>\n",
       "      <td>2021-01-01</td>\n",
       "      <td>590</td>\n",
       "      <td>961</td>\n",
       "      <td>-0.9</td>\n",
       "      <td>2.3</td>\n",
       "      <td>63</td>\n",
       "      <td>10.6</td>\n",
       "    </tr>\n",
       "    <tr>\n",
       "      <th>1</th>\n",
       "      <td>2874</td>\n",
       "      <td>2021-01-02</td>\n",
       "      <td>2844</td>\n",
       "      <td>5718</td>\n",
       "      <td>4.8</td>\n",
       "      <td>7.6</td>\n",
       "      <td>61</td>\n",
       "      <td>19.1</td>\n",
       "    </tr>\n",
       "    <tr>\n",
       "      <th>2</th>\n",
       "      <td>495</td>\n",
       "      <td>2021-01-03</td>\n",
       "      <td>1133</td>\n",
       "      <td>1628</td>\n",
       "      <td>0.9</td>\n",
       "      <td>3.9</td>\n",
       "      <td>63</td>\n",
       "      <td>13.0</td>\n",
       "    </tr>\n",
       "    <tr>\n",
       "      <th>3</th>\n",
       "      <td>907</td>\n",
       "      <td>2021-01-04</td>\n",
       "      <td>2074</td>\n",
       "      <td>2981</td>\n",
       "      <td>1.0</td>\n",
       "      <td>4.1</td>\n",
       "      <td>3</td>\n",
       "      <td>13.3</td>\n",
       "    </tr>\n",
       "    <tr>\n",
       "      <th>4</th>\n",
       "      <td>1057</td>\n",
       "      <td>2021-01-05</td>\n",
       "      <td>2004</td>\n",
       "      <td>3061</td>\n",
       "      <td>1.4</td>\n",
       "      <td>4.0</td>\n",
       "      <td>51</td>\n",
       "      <td>9.2</td>\n",
       "    </tr>\n",
       "  </tbody>\n",
       "</table>\n",
       "</div>"
      ],
      "text/plain": [
       "   Casual        Date  Member  Total_rides  apparent_temperature_mean (°C)  \\\n",
       "0     371  2021-01-01     590          961                            -0.9   \n",
       "1    2874  2021-01-02    2844         5718                             4.8   \n",
       "2     495  2021-01-03    1133         1628                             0.9   \n",
       "3     907  2021-01-04    2074         2981                             1.0   \n",
       "4    1057  2021-01-05    2004         3061                             1.4   \n",
       "\n",
       "   temperature_2m_mean (°C)  weathercode (wmo code)  windspeed_10m_max (km/h)  \n",
       "0                       2.3                      63                      10.6  \n",
       "1                       7.6                      61                      19.1  \n",
       "2                       3.9                      63                      13.0  \n",
       "3                       4.1                       3                      13.3  \n",
       "4                       4.0                      51                       9.2  "
      ]
     },
     "execution_count": 8,
     "metadata": {},
     "output_type": "execute_result"
    }
   ],
   "source": [
    "daily.head(5)"
   ]
  },
  {
   "cell_type": "code",
   "execution_count": 9,
   "metadata": {},
   "outputs": [
    {
     "name": "stdout",
     "output_type": "stream",
     "text": [
      "<class 'pandas.core.frame.DataFrame'>\n",
      "RangeIndex: 1095 entries, 0 to 1094\n",
      "Data columns (total 8 columns):\n",
      " #   Column                          Non-Null Count  Dtype  \n",
      "---  ------                          --------------  -----  \n",
      " 0   Casual                          1095 non-null   int64  \n",
      " 1   Date                            1095 non-null   object \n",
      " 2   Member                          1095 non-null   int64  \n",
      " 3   Total_rides                     1095 non-null   int64  \n",
      " 4   apparent_temperature_mean (°C)  1095 non-null   float64\n",
      " 5   temperature_2m_mean (°C)        1095 non-null   float64\n",
      " 6   weathercode (wmo code)          1095 non-null   int64  \n",
      " 7   windspeed_10m_max (km/h)        1095 non-null   float64\n",
      "dtypes: float64(3), int64(4), object(1)\n",
      "memory usage: 68.6+ KB\n"
     ]
    }
   ],
   "source": [
    "daily.info()\n"
   ]
  }
 ],
 "metadata": {
  "kernelspec": {
   "display_name": "base",
   "language": "python",
   "name": "python3"
  },
  "language_info": {
   "codemirror_mode": {
    "name": "ipython",
    "version": 3
   },
   "file_extension": ".py",
   "mimetype": "text/x-python",
   "name": "python",
   "nbconvert_exporter": "python",
   "pygments_lexer": "ipython3",
   "version": "3.11.5"
  }
 },
 "nbformat": 4,
 "nbformat_minor": 2
}
